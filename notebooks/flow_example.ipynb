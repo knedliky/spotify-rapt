{
 "cells": [
  {
   "cell_type": "code",
   "execution_count": null,
   "metadata": {},
   "outputs": [],
   "source": [
    "from client.spotify_client import *\n",
    "import tqdm\n",
    "\n",
    "client_id = os.getenv(\"CLIENT_ID\")\n",
    "client_secret = os.getenv(\"CLIENT_SECRET\")\n",
    "redirect_uri = os.getenv(\"REDIRECT_URI\")\n",
    "\n",
    "spotify = SpotifyClient(client_id, client_secret, redirect_uri)\n",
    "\n",
    "# Authorise the client and performing a search, using the authorised Spotify client\n",
    "spotify.authorise()\n",
    "spotify.search('Song title')\n",
    "\n",
    "# Timing the length of the search\n",
    "tqdm(spotify.search('Song title'))\n",
    "\n",
    "# List comprehension is generally faster than for loops\n",
    "dataset = [pd.DataFrame(asin) for asin in tqdm(spotify.search('Song title'))]"
   ]
  }
 ],
 "metadata": {
  "language_info": {
   "name": "python"
  },
  "orig_nbformat": 4
 },
 "nbformat": 4,
 "nbformat_minor": 2
}
