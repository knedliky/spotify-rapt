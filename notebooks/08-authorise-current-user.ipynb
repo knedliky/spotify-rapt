{
 "cells": [
  {
   "cell_type": "code",
   "execution_count": 1,
   "id": "c811c608",
   "metadata": {},
   "outputs": [],
   "source": [
    "import base64\n",
    "import os\n",
    "from datetime import datetime, timedelta\n",
    "from sre_parse import State\n",
    "from urllib.parse import urlencode, urlparse, parse_qs\n",
    "from click import pass_context\n",
    "\n",
    "import requests\n",
    "\n",
    "\n",
    "class OAuth():\n",
    "    TOKEN_URL = \"https://accounts.spotify.com/api/token\"\n",
    "    AUTH_URL = 'https://accounts.spotify.com/authorize'\n",
    "    client_id = None\n",
    "    client_secret = None\n",
    "    redirect_uri = None\n",
    "    # grant_type = None\n",
    "    response_type = 'code'\n",
    "    state = None\n",
    "    scope = None\n",
    "\n",
    "    def __init__(self, client_id, client_secret, redirect_uri):\n",
    "      '''\n",
    "      Initialises the client with suplpied client id and secret\n",
    "      '''\n",
    "      self.client_id = client_id\n",
    "      self.client_secret = client_secret\n",
    "      self.redirect_uri = redirect_uri\n",
    "\n",
    "    def get_auth_data(self):\n",
    "        '''\n",
    "        Returns the auth data necessary for the authorisation post request in the authorisation code flow\n",
    "        '''\n",
    "        return {'grant_type':'authorisation_code'}\n",
    "\n",
    "    def get_auth_url(self, state=None):\n",
    "        '''\n",
    "        Returns the authorisation URL to be requested\n",
    "        '''\n",
    "        auth_url = self.AUTH_URL\n",
    "        client_id = self.client_id\n",
    "        # client_secret = self.client_secret\n",
    "        response_type = self.response_type\n",
    "        redirect_uri = self.redirect_uri\n",
    "        query = {\n",
    "            'client_id':client_id, \n",
    "            'response_type': response_type,\n",
    "            'redirect_uri': redirect_uri\n",
    "        }\n",
    "        if self.scope:\n",
    "            query['scope'] = self.scope\n",
    "        if state is None:\n",
    "            query['state'] = state\n",
    "        # OPTIONAL: if instance has show dialog option, add this to the query\n",
    "        urlparams = urlencode(query)\n",
    "        return f'{auth_url}?{urlparams}'\n",
    "\n",
    "\n",
    "    @staticmethod\n",
    "    def parse_auth_url(url):\n",
    "        '''\n",
    "        Parses the given Authorization URL in the Authorization Code Flow, \n",
    "        returning the state and code in positions 1 and 2 respectively\n",
    "        '''\n",
    "        query = urlparse(url).query\n",
    "        form = parse_qs(query)\n",
    "        if 'error' in form:\n",
    "            raise Exception('Error authorising user')\n",
    "        return tuple(form.get(param) for param in ['state', 'code'])\n",
    "\n",
    "\n",
    "    def parse_response_code(self, url):\n",
    "        '''\n",
    "        Parses the response code for the Authorization Code Flow\n",
    "        '''\n",
    "        _, code = self.parse_auth_url(url)\n",
    "        if code is None:\n",
    "            return url\n",
    "        else:\n",
    "            return code\n",
    "\n",
    "\n",
    "    def get_auth_response(self):\n",
    "        pass\n",
    "\n",
    "\n",
    "    def get_auth_headers(self):\n",
    "        pass\n",
    "\n",
    "\n",
    "    def get_access_token(self, code=None):\n",
    "        '''\n",
    "        Returns access token\n",
    "        '''\n",
    "        auth_url = self.AUTH_URL\n",
    "        query = {\n",
    "            'redirect_uri':self.redirect_uri,\n",
    "            'code': code or self.get_auth_response(),\n",
    "            'grant_type': 'authorization_code'\n",
    "        }\n",
    "        if self.scope:\n",
    "            query['scope'] = self.scope\n",
    "        if self.state:\n",
    "            query['self'] = self.state\n",
    "        \n",
    "        headers = self.get_auth_headers()\n",
    "        auth_response = requests.post(auth_url)\n",
    "\n",
    "    def validate_token(self, token_info):\n",
    "        pass\n"
   ]
  },
  {
   "cell_type": "code",
   "execution_count": 2,
   "id": "e9a90ca8",
   "metadata": {},
   "outputs": [],
   "source": [
    "client_id = os.getenv('CLIENT_ID')\n",
    "client_secret = os.getenv('CLIENT_SECRET')\n",
    "redirect_uri = os.getenv('REDIRECT_URI')"
   ]
  },
  {
   "cell_type": "code",
   "execution_count": 3,
   "id": "17561d29",
   "metadata": {},
   "outputs": [],
   "source": [
    "s = OAuth(client_id, client_secret, redirect_uri)"
   ]
  },
  {
   "cell_type": "code",
   "execution_count": 4,
   "id": "56792860",
   "metadata": {},
   "outputs": [],
   "source": [
    "r = requests.get(s.get_auth_url())"
   ]
  },
  {
   "cell_type": "code",
   "execution_count": 10,
   "id": "8cd0ba44",
   "metadata": {},
   "outputs": [],
   "source": [
    "import webbrowser\n",
    "r  =webbrowser.open(s.get_auth_url())"
   ]
  },
  {
   "cell_type": "code",
   "execution_count": 11,
   "id": "13513787",
   "metadata": {},
   "outputs": [
    {
     "data": {
      "text/plain": [
       "'https://accounts.spotify.com/authorize?client_id=6e1ae3a813ca4ae2ba228993b7b3e229&response_type=code&redirect_uri=http%3A%2F%2F127.0.0.1%3A5000%2Fcallback&state=None'"
      ]
     },
     "execution_count": 11,
     "metadata": {},
     "output_type": "execute_result"
    }
   ],
   "source": []
  },
  {
   "cell_type": "code",
   "execution_count": null,
   "id": "01d407f0",
   "metadata": {},
   "outputs": [],
   "source": []
  }
 ],
 "metadata": {
  "kernelspec": {
   "display_name": "Python 3 (ipykernel)",
   "language": "python",
   "name": "python3"
  },
  "language_info": {
   "codemirror_mode": {
    "name": "ipython",
    "version": 3
   },
   "file_extension": ".py",
   "mimetype": "text/x-python",
   "name": "python",
   "nbconvert_exporter": "python",
   "pygments_lexer": "ipython3",
   "version": "3.9.7"
  }
 },
 "nbformat": 4,
 "nbformat_minor": 5
}
