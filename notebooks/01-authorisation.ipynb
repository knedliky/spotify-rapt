{
 "cells": [
  {
   "cell_type": "code",
   "execution_count": 1,
   "id": "d3e3bea5",
   "metadata": {},
   "outputs": [],
   "source": [
    "import os\n",
    "import requests\n",
    "import spotipy"
   ]
  },
  {
   "cell_type": "code",
   "execution_count": 9,
   "id": "b684a4ec",
   "metadata": {},
   "outputs": [],
   "source": [
    "AUTH_URL = \"https://accounts.spotify.com/api/token\"\n",
    "CLIENT_ID = os.getenv(\"SPOTIPY_CLIENT_ID\")\n",
    "CLIENT_SECRET = os.getenv(\"SPOTIPY_CLIENT_SECRET\")\n",
    "REDIRECT_URI = os.getenv(\"SPOTIPY_REDIRECT_URI\")\n",
    "BASE_URL = \"https://api.spotify.com/v1/\" # base URL of all Spotify API endpoints"
   ]
  },
  {
   "cell_type": "code",
   "execution_count": 10,
   "id": "d2ca8084",
   "metadata": {},
   "outputs": [],
   "source": [
    "# POST\n",
    "auth_response = requests.post(\n",
    "    AUTH_URL,\n",
    "    {\n",
    "        \"grant_type\": \"client_credentials\",\n",
    "        \"client_id\": CLIENT_ID,\n",
    "        \"client_secret\": CLIENT_SECRET,\n",
    "    },\n",
    ")\n",
    "auth_response_data = auth_response.json()\n",
    "access_token = auth_response_data[\"access_token\"]\n",
    "headers = {\"Authorization\": \"Bearer {token}\".format(token=access_token)}"
   ]
  },
  {
   "cell_type": "code",
   "execution_count": 11,
   "id": "68574a49",
   "metadata": {},
   "outputs": [
    {
     "name": "stdout",
     "output_type": "stream",
     "text": [
      "{'danceability': 0.54, 'energy': 0.59, 'key': 0, 'loudness': -4.359, 'mode': 1, 'speechiness': 0.0528, 'acousticness': 0.446, 'instrumentalness': 0, 'liveness': 0.14, 'valence': 0.267, 'tempo': 119.878, 'type': 'audio_features', 'id': '6y0igZArWVi6Iz0rj35c1Y', 'uri': 'spotify:track:6y0igZArWVi6Iz0rj35c1Y', 'track_href': 'https://api.spotify.com/v1/tracks/6y0igZArWVi6Iz0rj35c1Y', 'analysis_url': 'https://api.spotify.com/v1/audio-analysis/6y0igZArWVi6Iz0rj35c1Y', 'duration_ms': 234910, 'time_signature': 4}\n"
     ]
    }
   ],
   "source": [
    "# Track ID from the URI\n",
    "track_id = \"6y0igZArWVi6Iz0rj35c1Y\"\n",
    "\n",
    "# actual GET request with proper header\n",
    "r = requests.get(BASE_URL + \"audio-features/\" + track_id, headers=headers)\n",
    "r = r.json()\n",
    "print(r)"
   ]
  },
  {
   "cell_type": "code",
   "execution_count": 14,
   "id": "8f1bc542",
   "metadata": {},
   "outputs": [
    {
     "name": "stdout",
     "output_type": "stream",
     "text": [
      "{'access_token': 'BQBGgr6XAZ0LiizJFQg5ulE85Xfc-1WvZEQgjuyxFrIbBRMISgIK4I4TifWe5j_S3BZa1ieyI5O6ceXcXLs', 'token_type': 'Bearer', 'expires_in': 3600}\n"
     ]
    }
   ],
   "source": [
    "print(auth_response_data)"
   ]
  },
  {
   "cell_type": "code",
   "execution_count": null,
   "id": "c4d28864",
   "metadata": {},
   "outputs": [],
   "source": []
  }
 ],
 "metadata": {
  "kernelspec": {
   "display_name": "Python 3 (ipykernel)",
   "language": "python",
   "name": "python3"
  },
  "language_info": {
   "codemirror_mode": {
    "name": "ipython",
    "version": 3
   },
   "file_extension": ".py",
   "mimetype": "text/x-python",
   "name": "python",
   "nbconvert_exporter": "python",
   "pygments_lexer": "ipython3",
   "version": "3.9.7"
  }
 },
 "nbformat": 4,
 "nbformat_minor": 5
}
