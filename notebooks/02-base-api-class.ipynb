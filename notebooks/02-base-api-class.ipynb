{
 "cells": [
  {
   "cell_type": "code",
   "execution_count": 45,
   "id": "d3e3bea5",
   "metadata": {},
   "outputs": [],
   "source": [
    "import os\n",
    "import requests\n",
    "import base64\n",
    "from datetime import datetime, timedelta"
   ]
  },
  {
   "cell_type": "code",
   "execution_count": 8,
   "id": "b684a4ec",
   "metadata": {},
   "outputs": [],
   "source": [
    "auth_url = \"https://accounts.spotify.com/api/token\"\n",
    "client_id = os.getenv(\"SPOTIPY_CLIENT_ID\")\n",
    "client_secret = os.getenv(\"SPOTIPY_CLIENT_SECRET\")\n",
    "redirect_uri = os.getenv(\"SPOTIPY_REDIRECT_URI\")\n",
    "base_url = \"https://api.spotify.com/v1/\" # base URL of all Spotify API endpoints"
   ]
  },
  {
   "cell_type": "code",
   "execution_count": 49,
   "id": "c4d28864",
   "metadata": {},
   "outputs": [],
   "source": [
    "class SpotifyAPI():\n",
    "    access_token = None\n",
    "    access_token_expiry = datetime.now()\n",
    "    client_id = None\n",
    "    client_secret = None\n",
    "    auth_url = 'https://accounts.spotify.com/api/token'\n",
    "    \n",
    "    \n",
    "    def __init__(self, client_id, client_secret):\n",
    "        '''\n",
    "        Initialises the Spotify client with the client ID and secret\n",
    "        '''\n",
    "        self.client_id = client_id\n",
    "        self.client_secret = client_secret\n",
    "    \n",
    "    \n",
    "    def get_token_header(self):\n",
    "        '''\n",
    "        Returns the token header in base64 encoding necessary for the authorisation post request\n",
    "        '''\n",
    "        client_credentials_b64 = self.get_client_credentials()\n",
    "        return {\"Authorization\": \"Basic {credentials}\".format(credentials=client_credentials_b64)}\n",
    "    \n",
    "    \n",
    "    def get_token_data(self):\n",
    "        '''\n",
    "        Returns the token data necessary for the authorisation post request\n",
    "        '''\n",
    "        return {\"grant_type\": \"client_credentials\"}\n",
    "    \n",
    "    \n",
    "    def get_client_credentials(self):\n",
    "        ''' \n",
    "        Returns a base 64 encoded authorisation string\n",
    "        '''\n",
    "        client_id = self.client_id\n",
    "        client_secret = self.client_secret\n",
    "        if client_id is None or client_secret is None:\n",
    "            raise Exception(\"You must set a client ID and a client secret\")\n",
    "        client_credentials = f'{client_id}:{client_secret}'\n",
    "        client_credentials_b64 = base64.b64encode(client_credentials.encode())\n",
    "        return client_credentials_b64.decode()\n",
    "    \n",
    "    \n",
    "    def authorise(self):\n",
    "        '''\n",
    "        Authorises the client, setting the authorisation token and returning True if successful\n",
    "        '''\n",
    "        auth_url = self.auth_url\n",
    "        auth_data = self.get_token_data()\n",
    "        auth_headers = self.get_token_header()\n",
    "        auth_response = requests.post(auth_url, data=auth_data, headers=auth_headers)\n",
    "        if auth_response.status_code not in range(200,299):\n",
    "            return False\n",
    "        auth_response_data = auth_response.json()\n",
    "        access_token = auth_response_data[\"access_token\"]\n",
    "        self.access_token = access_token\n",
    "        now = datetime.now()\n",
    "        expires_in = auth_response_data['expires_in']\n",
    "        expires = now + timedelta(seconds=expires_in)\n",
    "        self.access_token_expires = expires\n",
    "        self.access_token_expired = expires < now\n",
    "        return True"
   ]
  },
  {
   "cell_type": "code",
   "execution_count": 50,
   "id": "b5390f04",
   "metadata": {},
   "outputs": [],
   "source": [
    "spotify = SpotifyAPI(client_id, client_secret)"
   ]
  },
  {
   "cell_type": "code",
   "execution_count": 51,
   "id": "6702868c",
   "metadata": {},
   "outputs": [
    {
     "data": {
      "text/plain": [
       "True"
      ]
     },
     "execution_count": 51,
     "metadata": {},
     "output_type": "execute_result"
    }
   ],
   "source": [
    "spotify.authorise()"
   ]
  },
  {
   "cell_type": "code",
   "execution_count": 52,
   "id": "62a18fe3",
   "metadata": {},
   "outputs": [
    {
     "data": {
      "text/plain": [
       "'BQDnC1hhxRZcbJE1MQDcOLijCDbDh3wzhb_EU-lxUMLRbmlQYFTgJOYx3x7XUATxbOELhdKckUMYqdmtFDs'"
      ]
     },
     "execution_count": 52,
     "metadata": {},
     "output_type": "execute_result"
    }
   ],
   "source": [
    "spotify.access_token"
   ]
  },
  {
   "cell_type": "code",
   "execution_count": null,
   "id": "67d90185",
   "metadata": {},
   "outputs": [],
   "source": []
  }
 ],
 "metadata": {
  "kernelspec": {
   "display_name": "Python 3 (ipykernel)",
   "language": "python",
   "name": "python3"
  },
  "language_info": {
   "codemirror_mode": {
    "name": "ipython",
    "version": 3
   },
   "file_extension": ".py",
   "mimetype": "text/x-python",
   "name": "python",
   "nbconvert_exporter": "python",
   "pygments_lexer": "ipython3",
   "version": "3.9.7"
  }
 },
 "nbformat": 4,
 "nbformat_minor": 5
}
