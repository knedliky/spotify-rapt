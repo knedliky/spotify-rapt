{
 "cells": [
  {
   "cell_type": "code",
   "execution_count": 9,
   "id": "39d71c8b",
   "metadata": {},
   "outputs": [],
   "source": [
    "import os \n",
    "\n",
    "client_id = os.getenv('CLIENT_ID')\n",
    "client_secret = os.getenv('CLIENT_SECRET')\n",
    "redirect_uri = os.getenv('REDIRECT_URI')\n",
    "\n",
    "auth_base_url = \"https://accounts.spotify.com/authorize\"\n",
    "token_url = \"https://accounts.spotify.com/api/token\"\n",
    "scope = ['user-top-read']"
   ]
  },
  {
   "cell_type": "code",
   "execution_count": 10,
   "id": "50cd93c2",
   "metadata": {},
   "outputs": [],
   "source": [
    "from requests_oauthlib import OAuth2Session\n",
    "spotify = OAuth2Session(client_id, scope=scope, redirect_uri=redirect_uri)"
   ]
  },
  {
   "cell_type": "code",
   "execution_count": 11,
   "id": "da3297d7",
   "metadata": {},
   "outputs": [
    {
     "name": "stdout",
     "output_type": "stream",
     "text": [
      "Please go here and authorize:  https://accounts.spotify.com/authorize?response_type=code&client_id=6e1ae3a813ca4ae2ba228993b7b3e229&redirect_uri=http%3A%2F%2F127.0.0.1%3A5000%2Fcallback&scope=user-top-read&state=s5qRJ8RlY9knPre2pCKzNPID0MnEqF\n"
     ]
    }
   ],
   "source": [
    "authorization_url, state = spotify.authorization_url(auth_base_url)\n",
    "print('Please go here and authorize: ', authorization_url)"
   ]
  },
  {
   "cell_type": "code",
   "execution_count": null,
   "id": "8dad0ca5",
   "metadata": {},
   "outputs": [],
   "source": []
  }
 ],
 "metadata": {
  "kernelspec": {
   "display_name": "Python 3 (ipykernel)",
   "language": "python",
   "name": "python3"
  },
  "language_info": {
   "codemirror_mode": {
    "name": "ipython",
    "version": 3
   },
   "file_extension": ".py",
   "mimetype": "text/x-python",
   "name": "python",
   "nbconvert_exporter": "python",
   "pygments_lexer": "ipython3",
   "version": "3.9.7"
  }
 },
 "nbformat": 4,
 "nbformat_minor": 5
}
